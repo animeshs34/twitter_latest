{
 "cells": [
  {
   "cell_type": "code",
   "execution_count": 1,
   "metadata": {},
   "outputs": [
    {
     "name": "stdout",
     "output_type": "stream",
     "text": [
      "dict_keys(['created_at', 'id', 'id_str', 'full_text', 'truncated', 'display_text_range', 'entities', 'metadata', 'source', 'in_reply_to_status_id', 'in_reply_to_status_id_str', 'in_reply_to_user_id', 'in_reply_to_user_id_str', 'in_reply_to_screen_name', 'user', 'geo', 'coordinates', 'place', 'contributors', 'retweeted_status', 'is_quote_status', 'retweet_count', 'favorite_count', 'favorited', 'retweeted', 'lang'])\n",
      "[' SaveSectorE1 Vasant Kunj Residents are left with no proper drinking water The ground water provided by DDA is causing seri'] ['Vasant Kunj']\n"
     ]
    }
   ],
   "source": [
    "import tweepy as tw\n",
    "import os,re\n",
    "from datetime import datetime\n",
    "\n",
    "# authenticating with twitter api...\n",
    "\n",
    "consumer_key = 'nh6VWZcfcM2qAZVUjhkZ3Ek4z'\n",
    "consumer_secret = 'WwwPOnj3PdpHaZPpMVEULKxW6N7zIERbVpuRCIAp72QXdKsX62'\n",
    "access_token = '1686143983-ZZ9WNyqKwU1T2XU4iLhnvBlF3kKiSgXfals1Vgf'\n",
    "access_token_secret = 'QG16ygCMsJ6JEcdF5TJoeclDaWJND3CQqCSpdUEV9kr8R'\n",
    "\n",
    "auth = tw.OAuthHandler(consumer_key, consumer_secret)\n",
    "auth.set_access_token(access_token, access_token_secret)\n",
    "api = tw.API(auth, wait_on_rate_limit=True)\n",
    "tweets = []\n",
    "locations = []\n",
    "creation = []\n",
    "# getting top recent 2000 items from official dda handle...\n",
    "\n",
    "for i in tw.Cursor(api.search,\"official_dda\",tweet_mode = 'extended',lang = 'en').items(3):\n",
    "        k = dict(i._json)\n",
    "        print(k.keys())\n",
    "        \n",
    "        \n",
    "        #created_at converted to python datetime\n",
    "        created = datetime.strftime(datetime.strptime(k['created_at'],'%a %b %d %H:%M:%S +0000 %Y'), '%Y-%m-%d %H:%M:%S')\n",
    "        creation.append(created)\n",
    "        \n",
    "        \n",
    "        #location of user,,Note: Some user do not provide there location so it will be left blank...\n",
    "        location  = k['user']['location']\n",
    "        location  = ' '.join(re.sub(\"(@[A-Za-z0-9]+)|([^0-9A-Za-z \\t])|(\\w+:\\/\\/\\S+)\",\" \",location).split())\n",
    "        locations.append(location)\n",
    "        \n",
    "        # getting tweet content...\n",
    "        tweet = k['full_text']\n",
    "        tweet = ' '.join(re.sub(\"(@[A-Za-z0-9]+)|([^0-9A-Za-z \\t])|(\\w+:\\/\\/\\S+)\",\" \",tweet).split())\n",
    "        tweet = tweet.replace(\"RT\",\"\")\n",
    "        tweets.append(tweet)\n",
    "        \n",
    "        \n",
    "        \n",
    "        break\n",
    "print(tweets,locations)"
   ]
  },
  {
   "cell_type": "code",
   "execution_count": 8,
   "metadata": {},
   "outputs": [
    {
     "name": "stdout",
     "output_type": "stream",
     "text": [
      "28.5292495\n"
     ]
    }
   ],
   "source": [
    "from geopy.geocoders import Nominatim\n",
    "\n",
    "geolocator = Nominatim(user_agent=\"map creator\")\n",
    "location = geolocator.geocode(\"vasant kunj\")\n",
    "\n",
    "print(location.latitude)"
   ]
  },
  {
   "cell_type": "code",
   "execution_count": null,
   "metadata": {},
   "outputs": [],
   "source": []
  }
 ],
 "metadata": {
  "kernelspec": {
   "display_name": "Python 3",
   "language": "python",
   "name": "python3"
  },
  "language_info": {
   "codemirror_mode": {
    "name": "ipython",
    "version": 3
   },
   "file_extension": ".py",
   "mimetype": "text/x-python",
   "name": "python",
   "nbconvert_exporter": "python",
   "pygments_lexer": "ipython3",
   "version": "3.7.4"
  }
 },
 "nbformat": 4,
 "nbformat_minor": 2
}
