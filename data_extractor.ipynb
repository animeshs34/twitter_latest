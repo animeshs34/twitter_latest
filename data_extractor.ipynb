{
 "cells": [
  {
   "cell_type": "code",
   "execution_count": 10,
   "metadata": {},
   "outputs": [
    {
     "name": "stdout",
     "output_type": "stream",
     "text": [
      "Vasant Kunj\n",
      "delhi\n",
      "\n",
      "[Location(Vasant Kunj, Vasant Vihar Tehsil, New Delhi, Delhi, 110070, India, (28.5292495, 77.1541335, 0.0)), Location(Delhi, Kotwali Tehsil, Central Delhi, Delhi, 110006, India, (28.6517178, 77.2219388, 0.0)), None] [] []\n"
     ]
    }
   ],
   "source": [
    "import tweepy as tw\n",
    "import os,re\n",
    "from datetime import datetime\n",
    "\n",
    "\n",
    "from geopy.geocoders import Nominatim\n",
    "geolocator = Nominatim(user_agent=\"map creator\")\n",
    "# authenticating with twitter api...\n",
    "\n",
    "consumer_key = 'nh6VWZcfcM2qAZVUjhkZ3Ek4z'\n",
    "consumer_secret = 'WwwPOnj3PdpHaZPpMVEULKxW6N7zIERbVpuRCIAp72QXdKsX62'\n",
    "access_token = '1686143983-ZZ9WNyqKwU1T2XU4iLhnvBlF3kKiSgXfals1Vgf'\n",
    "access_token_secret = 'QG16ygCMsJ6JEcdF5TJoeclDaWJND3CQqCSpdUEV9kr8R'\n",
    "\n",
    "auth = tw.OAuthHandler(consumer_key, consumer_secret)\n",
    "auth.set_access_token(access_token, access_token_secret)\n",
    "api = tw.API(auth, wait_on_rate_limit=True)\n",
    "tweets = []\n",
    "locations = []\n",
    "creation = []\n",
    "latitudes = []\n",
    "longitudes = []\n",
    "# getting top recent 2000 items from official dda handle...\n",
    "\n",
    "for i in tw.Cursor(api.search,\"official_dda\",tweet_mode = 'extended',lang = 'en').items(3):\n",
    "        k = dict(i._json)\n",
    "        #print(k.keys())\n",
    "        \n",
    "        \n",
    "        #created_at converted to python datetime\n",
    "        created = datetime.strftime(datetime.strptime(k['created_at'],'%a %b %d %H:%M:%S +0000 %Y'), '%Y-%m-%d %H:%M:%S')\n",
    "        creation.append(created)\n",
    "        \n",
    "        \n",
    "        #location of user,,Note: Some user do not provide there location so it will be left blank...\n",
    "        location  = k['user']['location']\n",
    "        location  = ' '.join(re.sub(\"(@[A-Za-z0-9]+)|([^0-9A-Za-z \\t])|(\\w+:\\/\\/\\S+)\",\" \",location).split())\n",
    "        locations.append(geolocator.geocode(location))\n",
    "        print(location)\n",
    "        \n",
    "        #getting geo and coordinated whichever available else convert the above location to coordinates...\n",
    "        \n",
    "        \n",
    "        # getting tweet content...\n",
    "        tweet = k['full_text']\n",
    "        tweet = ' '.join(re.sub(\"(@[A-Za-z0-9]+)|([^0-9A-Za-z \\t])|(\\w+:\\/\\/\\S+)\",\" \",tweet).split())\n",
    "        tweet = tweet.replace(\"RT\",\"\")\n",
    "        tweets.append(tweet)\n",
    "        \n",
    "        \n",
    "        \n",
    "        \n",
    "print(locations,latitudes,longitudes)"
   ]
  },
  {
   "cell_type": "code",
   "execution_count": null,
   "metadata": {},
   "outputs": [],
   "source": []
  },
  {
   "cell_type": "code",
   "execution_count": null,
   "metadata": {},
   "outputs": [],
   "source": []
  }
 ],
 "metadata": {
  "kernelspec": {
   "display_name": "Python 3",
   "language": "python",
   "name": "python3"
  },
  "language_info": {
   "codemirror_mode": {
    "name": "ipython",
    "version": 3
   },
   "file_extension": ".py",
   "mimetype": "text/x-python",
   "name": "python",
   "nbconvert_exporter": "python",
   "pygments_lexer": "ipython3",
   "version": "3.7.4"
  }
 },
 "nbformat": 4,
 "nbformat_minor": 2
}
