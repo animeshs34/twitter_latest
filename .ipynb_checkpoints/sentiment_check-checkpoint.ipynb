{
 "cells": [
  {
   "cell_type": "code",
   "execution_count": null,
   "metadata": {},
   "outputs": [],
   "source": [
    "import tweepy as tw\n",
    "import os,re\n",
    "import time\n",
    "\n",
    "# authenticating with twitter api...\n",
    "\n",
    "consumer_key = 'nh6VWZcfcM2qAZVUjhkZ3Ek4z'\n",
    "consumer_secret = 'WwwPOnj3PdpHaZPpMVEULKxW6N7zIERbVpuRCIAp72QXdKsX62'\n",
    "access_token = '1686143983-ZZ9WNyqKwU1T2XU4iLhnvBlF3kKiSgXfals1Vgf'\n",
    "access_token_secret = 'QG16ygCMsJ6JEcdF5TJoeclDaWJND3CQqCSpdUEV9kr8R'\n",
    "\n",
    "auth = tw.OAuthHandler(consumer_key, consumer_secret)\n",
    "auth.set_access_token(access_token, access_token_secret)\n",
    "api = tw.API(auth, wait_on_rate_limit=True)\n",
    "tweets = []\n",
    "\n",
    "# getting top recent 2000 items from official dda handle...\n",
    "\n",
    "for i in tw.Cursor(api.search,\"official_dda\",tweet_mode = 'extended',lang = 'en').items(2000):\n",
    "        k = dict(i._json)\n",
    "        tweet = k['full_text']\n",
    "        \n",
    "        tweet = ' '.join(re.sub(\"(@[A-Za-z0-9]+)|([^0-9A-Za-z \\t])|(\\w+:\\/\\/\\S+)\",\" \",tweet).split())\n",
    "        tweet = tweet.replace(\"RT\",\"\")\n",
    "        tweets.append(tweet)\n",
    "\n",
    "        \n"
   ]
  },
  {
   "cell_type": "code",
   "execution_count": null,
   "metadata": {},
   "outputs": [],
   "source": [
    "# removing duplicate and redundant tweets...\n",
    "tweets = list(set(tweets))"
   ]
  },
  {
   "cell_type": "code",
   "execution_count": null,
   "metadata": {},
   "outputs": [],
   "source": [
    "# converting list \"tweets\" into a pandas dataframe.....\n",
    "\n",
    "import pandas as pd\n",
    "df = pd.DataFrame(tweets,columns=['tweets'])"
   ]
  },
  {
   "cell_type": "code",
   "execution_count": null,
   "metadata": {},
   "outputs": [],
   "source": [
    "# polarity checking using textblob class.....\n",
    "\n",
    "polarity = [textblob.TextBlob(i).sentiment.polarity  for i in tweets]\n",
    "for i in range(len(polarity)):\n",
    "    if polarity[i] > 0:\n",
    "        polarity[i] = 1\n",
    "    elif polarity[i] < 0:\n",
    "        polarity[i] = -1\n",
    "    else:\n",
    "        polarity[i] = 0"
   ]
  },
  {
   "cell_type": "code",
   "execution_count": null,
   "metadata": {},
   "outputs": [],
   "source": [
    "# adding polarity and lenght of tweets columns into dataframe\n",
    "\n",
    "df['polarity'] = polarity\n",
    "df['lenght'] = df['tweets'].str.len()\n",
    "df"
   ]
  },
  {
   "cell_type": "code",
   "execution_count": null,
   "metadata": {},
   "outputs": [],
   "source": [
    "# frequency count and wordclouds using countvectorizer\n",
    "\n",
    "from sklearn.feature_extraction.text import CountVectorizer\n",
    "import matplotlib.pyplot as plt\n",
    "\n",
    "\n",
    "cv = CountVectorizer(stop_words = 'english')\n",
    "words = cv.fit_transform(df['tweets'])\n",
    "\n",
    "sum_words = words.sum(axis=0)\n",
    "\n",
    "words_freq = [(word, sum_words[0, i]) for word, i in cv.vocabulary_.items()]\n",
    "words_freq = sorted(words_freq, key = lambda x: x[1], reverse = True)\n",
    "\n",
    "frequency = pd.DataFrame(words_freq, columns=['word', 'freq'])\n",
    "\n",
    "frequency.head(10).plot(x='word', y='freq', kind='bar', figsize=(15, 7), color = 'blue')\n",
    "plt.title(\"10 Frequently Occuring Words\")"
   ]
  },
  {
   "cell_type": "code",
   "execution_count": null,
   "metadata": {},
   "outputs": [],
   "source": [
    "from wordcloud import WordCloud\n",
    "\n",
    "wordcloud = WordCloud(background_color = 'white', width = 1000, height = 1000).generate_from_frequencies(dict(words_freq))\n",
    "\n",
    "plt.figure(figsize=(10,8))\n",
    "plt.imshow(wordcloud)\n",
    "plt.title(\"WordCloud\", fontsize = 22)"
   ]
  },
  {
   "cell_type": "code",
   "execution_count": null,
   "metadata": {},
   "outputs": [],
   "source": [
    "nuetral_word =' '.join([text for text in df['tweets'][df['polarity'] == 0]])\n",
    "\n",
    "wordcloud = WordCloud(width=800, height=500, random_state = 0, max_font_size = 110).generate(nuetral_word)\n",
    "plt.figure(figsize=(10, 7))\n",
    "plt.imshow(wordcloud, interpolation=\"bilinear\")\n",
    "plt.axis('off')\n",
    "plt.title('Only Neutral Words')\n",
    "plt.show()"
   ]
  },
  {
   "cell_type": "code",
   "execution_count": null,
   "metadata": {},
   "outputs": [],
   "source": [
    "negative_words =' '.join([text for text in df['tweets'][df['polarity'] == -1]])\n",
    "\n",
    "wordcloud = WordCloud(background_color = 'cyan', width=800, height=500, random_state = 0, max_font_size = 110).generate(negative_words)\n",
    "plt.figure(figsize=(10, 7))\n",
    "plt.imshow(wordcloud, interpolation=\"bilinear\")\n",
    "plt.axis('off')\n",
    "plt.title('Only Negative Words')\n",
    "plt.show()"
   ]
  },
  {
   "cell_type": "code",
   "execution_count": null,
   "metadata": {},
   "outputs": [],
   "source": [
    "# saving dataframe to external csv file to visualise the data.\n",
    "\n",
    "df.to_csv('latest_tweets.csv')"
   ]
  }
 ],
 "metadata": {
  "kernelspec": {
   "display_name": "Python 3",
   "language": "python",
   "name": "python3"
  },
  "language_info": {
   "codemirror_mode": {
    "name": "ipython",
    "version": 3
   },
   "file_extension": ".py",
   "mimetype": "text/x-python",
   "name": "python",
   "nbconvert_exporter": "python",
   "pygments_lexer": "ipython3",
   "version": "3.7.4"
  }
 },
 "nbformat": 4,
 "nbformat_minor": 2
}
